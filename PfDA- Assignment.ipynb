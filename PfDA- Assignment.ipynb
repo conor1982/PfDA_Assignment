{
 "cells": [
  {
   "cell_type": "markdown",
   "metadata": {},
   "source": [
    "# Programming for Data Analysis Assignment\n",
    "![Numpy_Logo.png](attachment:Numpy_Logo.png)"
   ]
  },
  {
   "cell_type": "markdown",
   "metadata": {},
   "source": [
    "# Project Plan (PP) and Overview\n",
    "* For the README - (might be good to inlcude in initial Jupyter notebook for convience)\n",
    "\n",
    "## Problem Statement - Explain the use of the Numpy.random package\n",
    "\n",
    "1. Explain Overall purpose of the package\n",
    "2. Explain the use of the *Simple random* data and *Permutations* functions.\n",
    "3. Explain the use and purpose of at least five *Distribuitons\" functions.\n",
    "4. Explain the use of seeds in generating pseudorandom numbers.\n",
    "\n",
    "## Software and Presentation\n",
    "* Jupyter Notebook.\n",
    "* Github for version control.\n",
    "* https://numpy.org/doc/stable/reference/random/index.html -V19 documentaion.\n",
    "* Make full use of jupyter functionality in terms of code, plots, pictures, markdown etc.\n",
    "* Git hub README just to contain what is in the REPO and how to run Jupyter notebook.\n",
    "* Clean well referenced and concise coding\n",
    "\n",
    "## 4 Problem Statements PP\n",
    "\n",
    "### Overall purpose of the package\n",
    "* Research - Google for blogposts and vlogposts, tutorials etc. on Numpy and numpy.random - (Stackoverflow, medium, science direct, towardsdatascience,  youtube and of course the official documentaion.\n",
    "* References - Save relevant/suitable references links etc. for later.\n",
    "* Examples through my own code.\n",
    "* Attach any decent images, plots.\n",
    "\n",
    "### *Simple random* data and *Permutations* functions\n",
    "* Research - Go through the official documentaion - code using each parameter option.\n",
    "* Apply my own code examples on each function - CODE REFERENCING TO DEMONSTRATE UNDERSTANDING.\n",
    "* References - Save relevant/suitable references links etc. for later.\n",
    "\n",
    "### five *Distributions\" functions\n",
    "* Google for blogposts and vlogposts for my chosen 5. Look at statistical resources on each of functions - wikipedia, mathisfun, youtube, revisionmaths.com\n",
    "* Chose those who I may have encountered in the past or have some prior knowledge. Maybe: Normal, Poisson, Binominal, Pareto, Exponential\n",
    "* Research - Go through the official documentaion - code using each parameter option.\n",
    "* Apply my own code examples on each function - CODE REFERENCING TO DEMONSTRATE UNDERSTANDING.\n",
    "* NB!!! to tie in the code with an explanation of the relevant statistical Distribution.\n",
    "* References - Save relevant/suitable references links etc. for later.\n",
    "* Attach Plot and image.\n",
    "\n",
    "### use of seeds in generating pseudorandom numbers\n",
    "*  Google for blogposts and vlogposts - stackexchange, researchgate, wikipedia etc.\n",
    "* Mention recent changes to how numpy calculates random seeds\n",
    "* Research - Go through the official documentaion - code using each parameter option.\n",
    "* Explain with coded examples the purpose of the seed generator\n",
    "\n",
    "## Some References to use in research - roughly in order with each section above\n",
    "\n",
    "* https://numpy.org/doc/stable/reference/random/index.html\n",
    "* https://towardsdatascience.com/mastering-random-sampling-in-python-ac2df84b7d3f\n",
    "* https://www.youtube.com/watch?v=GB9ByFAIAH4&t=2372s Keith Galli\n",
    "* https://medium.com/fintechexplained/why-should-we-use-numpy-c14a4fb03ee9\n",
    "* https://numpy.org/doc/stable/reference/random/generator.html#numpy.random.Generator\n",
    "* https://numpy.org/doc/stable/reference/random/generated/numpy.random.Generator.integers.html#numpy.random.Generator.integers (and for random, choice and bytes)\n",
    "* https://numpy.org/doc/stable/reference/random/generated/numpy.random.Generator.shuffle.html#numpy.random.Generator.shuffle (and for permutations)\n",
    "* https://www.w3schools.com/python/numpy_random_permutation.asp\n",
    "* https://numpy.org/doc/stable/reference/random/generated/numpy.random.Generator.binomial.html#numpy.random.Generator.binomial (and for normal, poisson, pareto, exponential)\n",
    "* https://revisionmaths.com/advanced-level-maths-revision/statistics\n",
    "* https://en.wikipedia.org/wiki/List_of_probability_distributions\n",
    "* https://albertcthomas.github.io/good-practices-random-number-generators/\n",
    "* https://en.wikipedia.org/wiki/Random_seed\n",
    "* https://www.statisticshowto.com/random-seed-definition/\n",
    "\n",
    "\n",
    "* https://guides.github.com/features/mastering-markdown/\n",
    "\n",
    "## References\n",
    "\n",
    "[1] https://www.educba.com/what-is-numpy/\n",
    "\n",
    "[2] https://towardsdatascience.com/an-overview-of-monte-carlo-methods-675384eb1694#:~:text=Monte%20Carlo%20(MC)%20methods%20are,assessing%20the%20impact%20of%20risk.\n",
    "\n",
    "[3] https://en.wikipedia.org/wiki/Pseudorandom_number_generator\n",
    "\n",
    "[4] https://numpy.org/doc/stable/reference/random/bit_generators/pcg64.html#numpy.random.PCG64\n",
    "\n",
    "[5] https://numpy.org/doc/stable/reference/random/generator.html\n",
    "\n",
    "[6] https://numpy.org/doc/stable/reference/random/generated/numpy.random.Generator.integers.html#numpy.random.Generator.integers\n",
    "\n",
    "[7] https://numpy.org/doc/stable/reference/random/generated/numpy.random.Generator.random.html\n",
    "\n",
    "[8] https://numpy.org/doc/stable/reference/random/generated/numpy.random.Generator.choice.html\n",
    "\n",
    "[9] https://numpy.org/doc/stable/reference/random/generated/numpy.random.Generator.bytes.html\n",
    "\n",
    "[10] https://numpy.org/doc/stable/reference/random/generated/numpy.random.Generator.shuffle.html\n",
    "\n",
    "[11] https://numpy.org/doc/stable/reference/random/generated/numpy.random.Generator.permutation.html"
   ]
  },
  {
   "cell_type": "markdown",
   "metadata": {},
   "source": [
    "# 1: Overall purpose of the package"
   ]
  },
  {
   "cell_type": "markdown",
   "metadata": {},
   "source": [
    "NumPy, short for Numerical Python, is a Python package heavily used for different Mathematical operations particulary for statistics. NumPy allows for data structures such as arrays, multi-dimensional arrays and matrices. This is creates efficency and convience when manipulating data, particurlary when it comes to numbers and large datsets of numbers. NumPy arrays are quite similar to the standard Python list, however, NumPy arrays are much faster. The other main difference is that Python lists are more flexible as you can only store the same data type in each column. [1]\n",
    "\n",
    "In this notebook, we will be exploring the Random Sampling (numpy.random) subpackage. This sub-package offers a comprehensive suite of functionas for generating random numbers and for generating different statistical probability functions.\n",
    "\n",
    "Random numbers is integral to any Machine Learning and Data Science. The abilty to quickly create random numbers without the need to collect, purchase or download huge datasets is very advantageuous.For example, if the propbablilty distribution of a topic being analyszed is know, the numpy.ranom package can quickly generate data simialr to this rather than obtaing 'real' data. This method of using random numnbers and simulated probailty distribtions for real world problems is called the Monte Carlo Method. *There are a broad spectrum of Monte Carlo methods, but they all share the commonality that they rely on random number generation to solve deterministic problems* [2]\n",
    "\n",
    "Pseudo random numbers are created using a pseudorandom number generator (PRNG) [3] They are not strictly random as they are created by computer which uses a matematical aglorigithms to produce numbers that appear random. A seed value (starting point) is used by the computer, often this is the time when the seed is created as this time will never occur again. The PNRG with that seed produces a unique set of random numbers asociiated with that timestamp. We will look at the use of seeds in generating pseudorandom numbers in more detail later in the notebook.\n",
    "\n",
    "In recent times the numpy.random package uses a different approach when producing random numbers. The older version used the _Mersenne Twister_ psuedo- random number generator while now it is based on _PCG-64_ *an implementaion of O'Neils permutation congruential generator* [4] This new algoritihm has allowefor more speed, accuracy and a streamlining of functions and the removal of duplication of functions.\n",
    "\n",
    "The numpy.random package can broken down into two sections, BitGenerator and Generator. The Generator is what the user interacts with in terms of using the different functions. *The function numpy.random.default_rng will instantiate a Generator with numpy’s default BitGenerator.* [5] Passing a variable rng = numpy.random_default_rng() initializes the BitGenerator which pulls random data from the OS at the time of initialisation. This opens up access to a wide range of functions and distributions to the user.\n",
    "\n",
    "The Generator offers the user a host of different functions that allows for randomness to be applied. This is broken down into 3 different sections:\n",
    "\n",
    "* Simple Random data\n",
    "* Permutations\n",
    "* Distributions\n",
    "\n",
    "We will look at the examples of these in more detail in this notebook \n",
    "\n",
    "\n",
    "\n",
    "\n",
    "\n",
    "\n"
   ]
  },
  {
   "cell_type": "markdown",
   "metadata": {},
   "source": [
    "## 2: Simple random data and Permutations functions."
   ]
  },
  {
   "cell_type": "code",
   "execution_count": 93,
   "metadata": {},
   "outputs": [],
   "source": [
    "#Import Python Libaries\n",
    "\n",
    "#Import Numpy\n",
    "import numpy as np\n",
    "rng = np.random.default_rng()\n",
    "\n",
    "#Import Matplotlib\n",
    "import matplotlib.pyplot as plt\n",
    "\n",
    "plt.rcParams['figure.figsize'] = [18, 12] #https://stackoverflow.com/questions/36367986/how-to-make-inline-plots-in-jupyter-notebook-larger\n"
   ]
  },
  {
   "cell_type": "markdown",
   "metadata": {},
   "source": [
    "### integers function\n",
    "\n",
    "\n",
    "*integers(low[, high, size, dtype, endpoint])*\n",
    "\n",
    "*Return random integers from low (inclusive) to high (exclusive), or if endpoint=True, low (inclusive) to high (inclusive).*\n",
    "\n",
    "\n"
   ]
  },
  {
   "cell_type": "markdown",
   "metadata": {},
   "source": [
    "##### Integers Example 1\n",
    "\n",
    "* Code below returns an integer up to and not including 5. \n",
    "* Error if no value inputted. \n",
    "* Will accept a float if entered but will only ever return an integer.\n",
    "* Will accepted an integer as a string\n",
    "* Error if a float as a string (e.g. '5.2') or a string (e.g. 'Hello') is inputted\n",
    "* Error if a negative value is inputted\n"
   ]
  },
  {
   "cell_type": "code",
   "execution_count": 94,
   "metadata": {},
   "outputs": [
    {
     "name": "stdout",
     "output_type": "stream",
     "text": [
      "2\n",
      "2\n",
      "0\n"
     ]
    }
   ],
   "source": [
    "print(rng.integers(5))\n",
    "print(rng.integers(5.333))\n",
    "print(rng.integers('5'))\n",
    "#print(rng.integers())\n",
    "#print(rng.integers(-4))"
   ]
  },
  {
   "cell_type": "markdown",
   "metadata": {},
   "source": [
    "* Code below returns an array of integers from zero up to and not including 100. Array size is 25\n",
    "* Error if a negative value is inputted"
   ]
  },
  {
   "cell_type": "code",
   "execution_count": 95,
   "metadata": {
    "scrolled": true
   },
   "outputs": [
    {
     "name": "stdout",
     "output_type": "stream",
     "text": [
      "[15 62 78 62  0 76 87 67 64 35 60 45 50 24 22 24 39  9 85 74 76  0 88 12\n",
      " 52]\n"
     ]
    }
   ],
   "source": [
    "print(rng.integers(100, size=25))\n",
    "#print(rng.integers(-100, size=25))"
   ]
  },
  {
   "cell_type": "markdown",
   "metadata": {},
   "source": [
    "* Code below returns an array of integers from 10 (included) up to and not including 20. Array size is 25\n",
    "* Will allow negative values if both a low and high value inputted as an argument"
   ]
  },
  {
   "cell_type": "code",
   "execution_count": 96,
   "metadata": {},
   "outputs": [
    {
     "name": "stdout",
     "output_type": "stream",
     "text": [
      "[17 12 12 12 17 17 18 12 16 13 19 11 10 12 12 12 12 18 14 15 12 11 19 14\n",
      " 16]\n",
      " \n",
      "[ -9  -9 -10 -10  -9 -10  -9  -9 -10  -9 -10 -10 -10  -9 -10  -9  -9  -9\n",
      " -10 -10  -9 -10 -10  -9 -10]\n"
     ]
    }
   ],
   "source": [
    "print(rng.integers(10,20, size=25))\n",
    "print(\" \")\n",
    "print(rng.integers(-10,-8, size=25))"
   ]
  },
  {
   "cell_type": "markdown",
   "metadata": {},
   "source": [
    "##### Integers Example 2: Endpoint = True\n",
    "* Returns an array of integers and adding in endpoint=True means both the low and high numbers are included"
   ]
  },
  {
   "cell_type": "code",
   "execution_count": 97,
   "metadata": {},
   "outputs": [
    {
     "name": "stdout",
     "output_type": "stream",
     "text": [
      "[ 5  5  5  7  9  6  8  6 10 10]\n",
      "[3 2 3 3 5 3 4 4 4 4]\n",
      "[-5 -6 -7 -7 -6 -6 -5 -6 -6 -7]\n"
     ]
    }
   ],
   "source": [
    "print(rng.integers(5,10, size=10, endpoint=True))\n",
    "print(rng.integers(2,5, size=10, endpoint=True))\n",
    "print(rng.integers(-7,-5, size=10, endpoint=True))"
   ]
  },
  {
   "cell_type": "markdown",
   "metadata": {},
   "source": [
    "##### Integers Example 3: Mulitdimensional Array\n",
    "* Returns a two dimensional array with 2 rows and 5 columns (size = (2,5))\n",
    "* Must be a positive number"
   ]
  },
  {
   "cell_type": "code",
   "execution_count": 98,
   "metadata": {},
   "outputs": [
    {
     "name": "stdout",
     "output_type": "stream",
     "text": [
      "[[3 4 3 0 4]\n",
      " [3 3 2 3 1]]\n"
     ]
    }
   ],
   "source": [
    "print(rng.integers(5, size=(2,5)))"
   ]
  },
  {
   "cell_type": "markdown",
   "metadata": {},
   "source": [
    "* Returns a two dimensional array with 10 rows and 5 columns (size = (10,5))"
   ]
  },
  {
   "cell_type": "code",
   "execution_count": 99,
   "metadata": {},
   "outputs": [
    {
     "name": "stdout",
     "output_type": "stream",
     "text": [
      "[[4 3 2 1 1]\n",
      " [0 2 4 4 4]\n",
      " [4 0 2 1 4]\n",
      " [4 0 1 0 0]\n",
      " [0 1 3 4 2]\n",
      " [1 2 1 1 0]\n",
      " [0 1 2 1 3]\n",
      " [2 4 1 3 1]\n",
      " [4 0 3 1 4]\n",
      " [3 2 2 4 1]]\n"
     ]
    }
   ],
   "source": [
    "print(rng.integers(5, size=(10,5)))"
   ]
  },
  {
   "cell_type": "markdown",
   "metadata": {},
   "source": [
    "##### Integers Example 4 : Function Distribution\n",
    "\n",
    "We can investigate the distrubtion of the integers function. Four variables are created each with a different array size."
   ]
  },
  {
   "cell_type": "code",
   "execution_count": 100,
   "metadata": {},
   "outputs": [],
   "source": [
    "#array of ten integers from zero up to and not including 100 \n",
    "x = rng.integers(100, size=10)\n",
    "\n",
    "#array of a thousand integers from zero up to and not including 1000\n",
    "x2 = rng.integers(100, size =1000)\n",
    "\n",
    "#array of tenthousand integers from zero up to not including 10000\n",
    "x3 = rng.integers(100,size=10000)\n",
    "\n",
    "#array of 10 million integers from zero up to and not including 1000000\n",
    "x4 = rng.integers(100,size=1000000)\n"
   ]
  },
  {
   "cell_type": "markdown",
   "metadata": {},
   "source": [
    "Looking at the variables above, the integers function here will perform the same calculations as *np.random.default_rng().uniform(n,size)"
   ]
  },
  {
   "cell_type": "markdown",
   "metadata": {},
   "source": [
    "We can use Histograms to illustrate the distribution of the integer function"
   ]
  },
  {
   "cell_type": "code",
   "execution_count": 102,
   "metadata": {},
   "outputs": [
    {
     "data": {
      "image/png": "[encoded data removed]",
      "text/plain": [
       "<Figure size 1296x864 with 4 Axes>"
      ]
     },
     "metadata": {
      "needs_background": "light"
     },
     "output_type": "display_data"
    }
   ],
   "source": [
    "\n",
    "#ref https://matplotlib.org/1.2.1/examples/pylab_examples/histogram_demo.html\n",
    "#Plotting subplots ref:Lecture Video Ian McLoughlin https://web.microsoftstream.com/video/ed13c5bf-978f-4d8b-8ee6-c29ac054038f\n",
    "#Histograms\n",
    "#Plotting subplots ref:Lecture Video Ian McLoughlin https://web.microsoftstream.com/video/ed13c5bf-978f-4d8b-8ee6-c29ac054038f\n",
    "\n",
    "#subplot of 2 rows and 2 columns, position 1\n",
    "\n",
    "plt.subplot(2,2,1) #plt.subplot(no of rows,no of cols,position)\n",
    "plt.hist(x) #plotting the histogram\n",
    "plt.title('Example with 10 Integers') #adding a title\n",
    "\n",
    "plt.subplot(2,2,2) #plt.subplot(no of rows,no of cols,position)\n",
    "plt.hist(x2) #plotting the histogram\n",
    "plt.title('Example with 1000 Integers') #adding a title\n",
    "\n",
    "plt.subplot(2,2,3) #plt.subplot(no of rows,no of cols,position)\n",
    "plt.hist(x3) #plotting the histogram\n",
    "plt.title('Example with 10000 Integers') #adding a title\n",
    "\n",
    "plt.subplot(2,2,4) #plt.subplot(no of rows,no of cols,position)\n",
    "plt.hist(x4) #plotting the histogram\n",
    "plt.title('Example of 1000000 Integers') ;#adding a title\n"
   ]
  },
  {
   "cell_type": "markdown",
   "metadata": {},
   "source": [
    "From observing the above Histograms, we can see the bigger the sample size used in this function, the more uniform the distribution it creates.\n",
    "\n",
    "*Return random integers from the “discrete uniform” distribution of the specified dtype. If high is None (the default), then results are from 0 to low.*"
   ]
  },
  {
   "cell_type": "markdown",
   "metadata": {},
   "source": [
    "### random function\n",
    "\n",
    "\n",
    "*random(size=None, dtype=np.float64, out=None)*\n",
    "\n",
    "*Return random floats in the half-open interval [0.0, 1.0).*"
   ]
  },
  {
   "cell_type": "markdown",
   "metadata": {},
   "source": [
    "##### Random Example 1\n",
    "* return a random float between 0.0 and 1.0\n",
    "* Will work without passing any argument unlike the integers function\n",
    "* negative values not allowed"
   ]
  },
  {
   "cell_type": "code",
   "execution_count": 103,
   "metadata": {},
   "outputs": [
    {
     "data": {
      "text/plain": [
       "0.23086189768925192"
      ]
     },
     "execution_count": 103,
     "metadata": {},
     "output_type": "execute_result"
    }
   ],
   "source": [
    "rng.random()"
   ]
  },
  {
   "cell_type": "markdown",
   "metadata": {},
   "source": [
    "#### Random Example 2\n",
    "* Passing a value will produce an array. For the example below, passing 5 will create an array with 5 random float numbers\n",
    "* Negavitve Values not allowed"
   ]
  },
  {
   "cell_type": "code",
   "execution_count": 104,
   "metadata": {},
   "outputs": [
    {
     "name": "stdout",
     "output_type": "stream",
     "text": [
      "[0.56080162 0.7668945  0.65272861 0.66806993 0.64279383]\n"
     ]
    }
   ],
   "source": [
    "print(rng.random(5))"
   ]
  },
  {
   "cell_type": "markdown",
   "metadata": {},
   "source": [
    "##### Random Example 3 - multi dimensional array\n",
    "* 1st piece of code below creates an array of 5 rows and 2 columns\n",
    "* 2nd piece of code belwo creates and array of 2 rows and 5 columns"
   ]
  },
  {
   "cell_type": "code",
   "execution_count": 105,
   "metadata": {},
   "outputs": [
    {
     "name": "stdout",
     "output_type": "stream",
     "text": [
      "[[0.69997731 0.20451274]\n",
      " [0.87770377 0.80678515]\n",
      " [0.37264154 0.22868557]\n",
      " [0.73810674 0.87345564]\n",
      " [0.81596843 0.25083222]]\n",
      " \n",
      "[[0.93907361 0.6569169  0.05656986 0.94589926 0.80774349]\n",
      " [0.36648106 0.33087361 0.63773405 0.73251649 0.86444134]]\n"
     ]
    }
   ],
   "source": [
    "print(rng.random((5,2)))\n",
    "print(\" \")\n",
    "print(rng.random((2,5)))"
   ]
  },
  {
   "cell_type": "markdown",
   "metadata": {},
   "source": [
    "#### Random Example 4 - Arrays greater than [0.0 - 1.0]\n",
    "By default, this function will return values between 0.0 and 1.0. We can increase this by adding a value before or after the function\n",
    "\n",
    "* adding + 2 after the function will retrun an array of 5 numbers between 2.0 and 3.0"
   ]
  },
  {
   "cell_type": "code",
   "execution_count": 106,
   "metadata": {},
   "outputs": [
    {
     "name": "stdout",
     "output_type": "stream",
     "text": [
      "[2.61211013 2.01780846 2.69548687 2.52506197 2.85278013]\n"
     ]
    }
   ],
   "source": [
    "print(rng.random(5) +2)"
   ]
  },
  {
   "cell_type": "markdown",
   "metadata": {},
   "source": [
    "* Adding a multiplication before the function will return an array for example below returns an array of 15 random numbers from [0.0 - 10.0]"
   ]
  },
  {
   "cell_type": "code",
   "execution_count": 107,
   "metadata": {},
   "outputs": [
    {
     "name": "stdout",
     "output_type": "stream",
     "text": [
      "[1.13075573 3.43830338 1.36211082 5.0637112  1.81298896 3.12970454\n",
      " 6.5491078  3.082261   6.47168235 2.88579414 6.50527625 3.39586142\n",
      " 7.66844387 8.44998786 9.77719475]\n"
     ]
    }
   ],
   "source": [
    "print(10 * rng.random(15))"
   ]
  },
  {
   "cell_type": "markdown",
   "metadata": {},
   "source": [
    "* The below example returns a FOUR by THREE array of random numbers from -3 to 0\n",
    "* This allows for an array with negative numbers to be created"
   ]
  },
  {
   "cell_type": "code",
   "execution_count": 108,
   "metadata": {},
   "outputs": [
    {
     "name": "stdout",
     "output_type": "stream",
     "text": [
      "[[-2.42155699 -2.55348789 -1.619971  ]\n",
      " [-0.70633374 -0.81212463 -0.30014656]\n",
      " [-1.55980818 -2.28157654 -0.65085601]\n",
      " [-1.9314211  -1.15593936 -1.5644113 ]]\n"
     ]
    }
   ],
   "source": [
    "print(3 * rng.random((4,3)) - 3)"
   ]
  },
  {
   "cell_type": "markdown",
   "metadata": {},
   "source": [
    "##### Random example 5 - Function Distribution\n",
    "Just like we did previously with the *integers* function we will can illustrate this function on a series of Histograms.\n",
    "\n",
    "* 6 variables that return different array sizes\n",
    "\n",
    "See how distribution again becomes more uniform as the sample size increases"
   ]
  },
  {
   "cell_type": "code",
   "execution_count": 113,
   "metadata": {},
   "outputs": [],
   "source": [
    "# variables with different sample sizes\n",
    "y = rng.random(10)\n",
    "y2 = rng.random(1000)\n",
    "y3 = rng.random(10000)\n",
    "y4 = rng.random(100000)"
   ]
  },
  {
   "cell_type": "code",
   "execution_count": 116,
   "metadata": {},
   "outputs": [
    {
     "data": {
      "image/png": "[encoded data removed]",
      "text/plain": [
       "<Figure size 1296x864 with 4 Axes>"
      ]
     },
     "metadata": {
      "needs_background": "light"
     },
     "output_type": "display_data"
    }
   ],
   "source": [
    "#TO ADD HISTOGRAM AXIS LABELS AND TITLE\n",
    "plt.subplot(2,2,1)\n",
    "plt.hist(y)\n",
    "plt.title('Example with 10')\n",
    "\n",
    "plt.subplot(2,2,2)\n",
    "plt.hist(y2)\n",
    "plt.title('Example with 1000')\n",
    "\n",
    "plt.subplot(2,2,3)\n",
    "plt.hist(y3)\n",
    "plt.title('Example with 10000')\n",
    "\n",
    "plt.subplot(2,2,4)\n",
    "plt.hist(y4);\n",
    "plt.title('Example with 100000');"
   ]
  },
  {
   "cell_type": "markdown",
   "metadata": {},
   "source": [
    "From observing the above Histograms, we can see the bigger the sample size used in this function, the more uniform the distribution it creates.\n",
    "\n",
    "*Results are from the “continuous uniform” distribution over the stated interval.*"
   ]
  },
  {
   "cell_type": "markdown",
   "metadata": {},
   "source": [
    "### choice function\n",
    "\n",
    "*choice(a, size=None, replace=True, p=None, axis=0, shuffle=True)*\n",
    "\n",
    "*Generates a random sample from a given 1-D array*"
   ]
  },
  {
   "cell_type": "markdown",
   "metadata": {},
   "source": [
    "#### Choice Function Example 1\n",
    "\n",
    "* takes at least one positional argument (similar to integer function)\n",
    "* no argument will return *TypeError: choice() takes at least 1 positional argument (0 given)*\n",
    "* Code below returns an array of 3 integers\n",
    "* Code below will return random integers up to but not including 20\n",
    "* can only be 1 dimenesional or an integer otherwise:\n",
    "*ValueError: a must be 1-dimensional or an integer* and \n",
    "*TypeError: 'float' object cannot be interpreted as an integer*"
   ]
  },
  {
   "cell_type": "code",
   "execution_count": 120,
   "metadata": {},
   "outputs": [
    {
     "name": "stdout",
     "output_type": "stream",
     "text": [
      "[ 6  7 17]\n",
      "[ 1 12  4]\n"
     ]
    }
   ],
   "source": [
    "print(rng.choice(20,3))\n",
    "\n",
    "#can also type size = 3\n",
    "print(rng.choice(20,size=3))"
   ]
  },
  {
   "cell_type": "markdown",
   "metadata": {},
   "source": [
    "#### Choice Function Example 2 - Replacement and Non Replacment\n",
    "* 1st line of Code - *replace = False* will always return unique samples\n",
    "* 2nd line of Code - *replace = True* can repeat samples\n",
    "* *replace = True* set by defualt\n"
   ]
  },
  {
   "cell_type": "code",
   "execution_count": 121,
   "metadata": {},
   "outputs": [
    {
     "name": "stdout",
     "output_type": "stream",
     "text": [
      "[3 0 2 4 1]\n",
      "[1 2 1 1 3]\n"
     ]
    }
   ],
   "source": [
    "print(rng.choice(5,5,replace=False))\n",
    "print(rng.choice(5,5,replace=True))"
   ]
  },
  {
   "cell_type": "markdown",
   "metadata": {},
   "source": [
    "#### Choice Function Example 3 - *p1-D array_like, optional*\n",
    "* applying values for the argument *p* allows to create an non uniform distribution\n",
    "* if none given, a uniform distribution is assummed\n",
    "* variabla a below - p values have been assigned\n",
    "* variable b below - no p values, functions runs as default, uniform distribution"
   ]
  },
  {
   "cell_type": "code",
   "execution_count": 126,
   "metadata": {},
   "outputs": [
    {
     "data": {
      "image/png": "[encoded data removed]",
      "text/plain": [
       "<Figure size 1296x864 with 2 Axes>"
      ]
     },
     "metadata": {
      "needs_background": "light"
     },
     "output_type": "display_data"
    }
   ],
   "source": [
    "#TO ADD HISTOGRAM AXIS LABELS AND TITLE\n",
    "a = rng.choice(5,10000, p=[0.1, 0.05, 0.2, 0.55, 0.1])\n",
    "b = rng.choice(5,10000)\n",
    "plt.subplot(2,1,1)\n",
    "plt.hist(a)\n",
    "plt.title('Non Uniform - p=[0.1, 0.05, 0.2, 0.55, 0.1]')\n",
    "plt.subplot(2,1,2)\n",
    "plt.hist(b)\n",
    "plt.title('Uniform - no p values passed');"
   ]
  },
  {
   "cell_type": "markdown",
   "metadata": {},
   "source": [
    "### bytes function\n",
    "*bytes(length)* \n",
    "\n",
    "*Return random bytes*\n",
    "\n",
    "* Bytes function only takes one parameter which is lenght\n",
    "* Determines the number of bytes returned.\n",
    "* This parameter is mandatory."
   ]
  },
  {
   "cell_type": "code",
   "execution_count": 21,
   "metadata": {},
   "outputs": [
    {
     "name": "stdout",
     "output_type": "stream",
     "text": [
      "b\"\\xd0\\xf3\\xc7\\xee\\x15\\xf5'\\x9b\\xaa\\xee\"\n",
      "b'\\xfd'\n",
      "b'\\xc6#\\xb5\\xaf\\x00\\xba\\xe5\\x7f\\xba\\xd0\\xb1\\xfa`\\xf8_\\xdcl\\x86M\\xb2\\xb8!\\xa9\\x81\\x16'\n"
     ]
    }
   ],
   "source": [
    "print(rng.bytes(10))\n",
    "print(rng.bytes(1))\n",
    "print(rng.bytes(25))"
   ]
  },
  {
   "cell_type": "markdown",
   "metadata": {},
   "source": [
    "### shuffle function\n",
    "*shuffle(x, axis=0)*\n",
    "\n",
    "*Modify a sequence in-place by shuffling its contents.*\n",
    "\n",
    "* shuffle function does not create an new array just rearanges the contents of the given argument\n",
    "* shuffle function reurns nothing"
   ]
  },
  {
   "cell_type": "code",
   "execution_count": 128,
   "metadata": {},
   "outputs": [
    {
     "name": "stdout",
     "output_type": "stream",
     "text": [
      "[ 1  2  3  4  5  6  7  8  9 10 11 12 13 14 15 16 17 18 19 20 21 22 23 24\n",
      " 25 26 27 28 29 30 31 32 33 34 35 36 37 38 39 40 41 42]\n"
     ]
    }
   ],
   "source": [
    "#numpy array of integers from and including 1 to and not including 43\n",
    "lotto = np.arange(1,43)\n",
    "print(lotto)"
   ]
  },
  {
   "cell_type": "markdown",
   "metadata": {},
   "source": [
    "* Simulate the lotto numbers using shuffle function"
   ]
  },
  {
   "cell_type": "code",
   "execution_count": 129,
   "metadata": {},
   "outputs": [
    {
     "name": "stdout",
     "output_type": "stream",
     "text": [
      "[16 40 31 19 20  8  2 11 37  3 24 42 22 18 15 41 38 12 39  9  6 29 21  1\n",
      " 30  5 13 27 34 33 14 35 25 26 36 32 28 23  7  4 17 10]\n",
      "\n",
      "The winning numbers are: [16 40 31 19 20  8]\n"
     ]
    }
   ],
   "source": [
    "#shuffle function - nothing returned\n",
    "rng.shuffle(lotto)\n",
    "\n",
    "#lotto variable values are now shuffled\n",
    "print(lotto)\n",
    "print()\n",
    "\n",
    "#return fist 6 values of the lotto array after shuffle \n",
    "nums = lotto[0:6]\n",
    "print(\"The winning numbers are:\",nums)\n"
   ]
  },
  {
   "cell_type": "markdown",
   "metadata": {},
   "source": [
    "* shuffle function can also shuffle multi dimensional arrays"
   ]
  },
  {
   "cell_type": "code",
   "execution_count": 132,
   "metadata": {},
   "outputs": [
    {
     "data": {
      "text/plain": [
       "array([[ 0,  1,  2,  3],\n",
       "       [ 4,  5,  6,  7],\n",
       "       [ 8,  9, 10, 11]])"
      ]
     },
     "execution_count": 132,
     "metadata": {},
     "output_type": "execute_result"
    }
   ],
   "source": [
    "arr = np.arange(12).reshape((3,4))\n",
    "rng.shuffle(arr)\n",
    "arr"
   ]
  },
  {
   "cell_type": "markdown",
   "metadata": {},
   "source": [
    "* applying the optional parameter *axis=1* will only shuffle to order\n",
    "* Therefore,in code below, 1st row of the array will always contain in some order [0,1,2,3]"
   ]
  },
  {
   "cell_type": "code",
   "execution_count": 191,
   "metadata": {},
   "outputs": [
    {
     "data": {
      "text/plain": [
       "array([[ 3,  0,  1,  2],\n",
       "       [ 7,  4,  5,  6],\n",
       "       [11,  8,  9, 10]])"
      ]
     },
     "execution_count": 191,
     "metadata": {},
     "output_type": "execute_result"
    }
   ],
   "source": [
    "arr = np.arange(12).reshape((3,4))\n",
    "rng.shuffle(arr, axis=1)\n",
    "arr"
   ]
  },
  {
   "cell_type": "markdown",
   "metadata": {},
   "source": [
    "* will also work with string values\n",
    "* shuffle does not return a new array so unique name will always be produced in example code below"
   ]
  },
  {
   "cell_type": "code",
   "execution_count": 213,
   "metadata": {},
   "outputs": [
    {
     "name": "stdout",
     "output_type": "stream",
     "text": [
      "Kitchen Cleaning: Connie\n",
      "Bathroom Cleaning: Conor\n",
      "Clean Car: Aideen\n",
      "Walk Dog: Nancy\n",
      "Mow the Lawn Leo\n",
      "Watch Netflix: Rose\n"
     ]
    }
   ],
   "source": [
    "names = ['Conor','Aideen','Connie','Leo','Rose','Nancy']\n",
    "rng.shuffle(names)\n",
    "\n",
    "clean_kitchen = names[0]\n",
    "bathroom_duties = names[1]\n",
    "clean_car = names[2]\n",
    "walk_dog = names[3]\n",
    "cut_lawn = names[4]\n",
    "off_duty = names[-1]\n",
    "\n",
    "print(\"Kitchen Cleaning:\",clean_kitchen)\n",
    "print(\"Bathroom Cleaning:\",bathroom_duties)\n",
    "print(\"Clean Car:\",clean_car)\n",
    "print(\"Walk Dog:\",walk_dog)\n",
    "print(\"Mow the Lawn\",cut_lawn)\n",
    "print(\"Watch Netflix:\",off_duty)"
   ]
  },
  {
   "cell_type": "markdown",
   "metadata": {},
   "source": [
    "### permutation(x, axis=0)\n",
    "*(x, axis=0)*\n",
    "\n",
    "*Randomly permute a sequence, or return a permuted range.*\n",
    "\n",
    "* Differing slightly to the shuffle array, this function will return a new shuffled array.\n",
    "* The extra step of running the original array again is not required"
   ]
  },
  {
   "cell_type": "code",
   "execution_count": 133,
   "metadata": {},
   "outputs": [
    {
     "data": {
      "text/plain": [
       "array([38, 27, 30, 41, 20, 17, 16, 23, 42, 36,  8,  3, 11, 10, 28,  2, 13,\n",
       "       25,  1, 35, 18, 29, 24, 37, 26, 33, 15, 39, 14,  6, 22, 31, 21,  7,\n",
       "       19,  9, 34,  5, 40, 12,  4, 32])"
      ]
     },
     "execution_count": 133,
     "metadata": {},
     "output_type": "execute_result"
    }
   ],
   "source": [
    "rng.permutation(lotto)"
   ]
  },
  {
   "cell_type": "code",
   "execution_count": 189,
   "metadata": {},
   "outputs": [
    {
     "name": "stdout",
     "output_type": "stream",
     "text": [
      "The winning numbers are: [18  4  6 14 15  8]\n"
     ]
    }
   ],
   "source": [
    "winning_nums = rng.permutation(lotto)[0:6] #variable with list indexing \n",
    "print(\"The winning numbers are:\", winning_nums)\n"
   ]
  },
  {
   "cell_type": "markdown",
   "metadata": {},
   "source": [
    "* The same applies when using it on multidimensional arrays.\n",
    "* The *axis = 1* argument also does the same thing as it does in rng.shuffle "
   ]
  },
  {
   "cell_type": "code",
   "execution_count": 135,
   "metadata": {},
   "outputs": [
    {
     "name": "stdout",
     "output_type": "stream",
     "text": [
      "[[ 4  5  6  7]\n",
      " [ 0  1  2  3]\n",
      " [ 8  9 10 11]]\n",
      "\n",
      "[[ 3  0  1  2]\n",
      " [ 7  4  5  6]\n",
      " [11  8  9 10]]\n"
     ]
    }
   ],
   "source": [
    "print(rng.permutation(arr))\n",
    "print()\n",
    "print(rng.permutation(arr,axis=1))"
   ]
  },
  {
   "cell_type": "markdown",
   "metadata": {},
   "source": [
    "* applying permutation to the list below similar to the edample used for *shuffle*\n",
    "* be careful, you could get more than one job!!!!"
   ]
  },
  {
   "cell_type": "code",
   "execution_count": 222,
   "metadata": {},
   "outputs": [
    {
     "name": "stdout",
     "output_type": "stream",
     "text": [
      "Kitchen Cleaning: Nancy\n",
      "Bathroom Cleaning: Nancy\n",
      "Clean Car: Leo\n",
      "Walk Dog: Connie\n",
      "Mow the Lawn Connie\n",
      "Watch Netflix: Rose\n"
     ]
    }
   ],
   "source": [
    "names = ['Conor','Aideen','Connie','Leo','Rose','Nancy']\n",
    "rng.permutation(names)\n",
    "\n",
    "clean_kitchen = rng.permutation(names)[0]\n",
    "bathroom_duties = rng.permutation(names)[1]\n",
    "clean_car = rng.permutation(names)[2]\n",
    "walk_dog = rng.permutation(names)[3]\n",
    "cut_lawn = rng.permutation(names)[4]\n",
    "off_duty = rng.permutation(names)[-1]\n",
    "\n",
    "print(\"Kitchen Cleaning:\",clean_kitchen)\n",
    "print(\"Bathroom Cleaning:\",bathroom_duties)\n",
    "print(\"Clean Car:\",clean_car)\n",
    "print(\"Walk Dog:\",walk_dog)\n",
    "print(\"Mow the Lawn\",cut_lawn)\n",
    "print(\"Watch Netflix:\",off_duty)"
   ]
  },
  {
   "cell_type": "code",
   "execution_count": null,
   "metadata": {},
   "outputs": [],
   "source": []
  }
 ],
 "metadata": {
  "kernelspec": {
   "display_name": "Python 3",
   "language": "python",
   "name": "python3"
  },
  "language_info": {
   "codemirror_mode": {
    "name": "ipython",
    "version": 3
   },
   "file_extension": ".py",
   "mimetype": "text/x-python",
   "name": "python",
   "nbconvert_exporter": "python",
   "pygments_lexer": "ipython3",
   "version": "3.8.3"
  }
 },
 "nbformat": 4,
 "nbformat_minor": 4
}
