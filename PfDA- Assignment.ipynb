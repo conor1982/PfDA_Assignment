{
 "cells": [
  {
   "attachments": {
    "Numpy_Logo.png": {
     "image/png": "[encoded data removed]"
    }
   },
   "cell_type": "markdown",
   "metadata": {},
   "source": [
    "# Programming for Data Analysis Assignment\n",
    "![Numpy_Logo.png](attachment:Numpy_Logo.png)\n",
    "\n",
    "# Project Plan (PP) and Overview\n",
    "* For the README - (might be good to inlcude in initial Jupyter notebook for convience)\n",
    "\n",
    "## Problem Statement - Explain the use of the Numpy.random package\n",
    "\n",
    "1. Explain Overall purpose of the package\n",
    "2. Explain the use of the *Simple random* data and *Permutations* functions.\n",
    "3. Explain the use and purpose of at least five *Distribuitons\" functions.\n",
    "4. Explain the use of seeds in generating pseudorandom numbers.\n",
    "\n",
    "## Software and Presentation\n",
    "* Jupyter Notebook.\n",
    "* Github for version control.\n",
    "* https://numpy.org/doc/stable/reference/random/index.html -V19 documentaion.\n",
    "* Make full use of jupyter functionality in terms of code, plots, pictures, markdown etc.\n",
    "* Git hub README just to contain what is in the REPO and how to run Jupyter notebook.\n",
    "* Clean well referenced and concise coding\n",
    "\n",
    "## 4 Problem Statements PP\n",
    "\n",
    "### Overall purpose of the package\n",
    "* Research - Google for blogposts and vlogposts, tutorials etc. on Numpy and numpy.random - (Stackoverflow, medium, science direct, towardsdatascience,  youtube and of course the official documentaion.\n",
    "* References - Save relevant/suitable references links etc. for later.\n",
    "* Examples through my own code.\n",
    "* Attach any decent images, plots.\n",
    "\n",
    "### *Simple random* data and *Permutations* functions\n",
    "* Research - Go through the official documentaion - code using each parameter option.\n",
    "* Apply my own code examples on each function - CODE REFERENCING TO DEMONSTRATE UNDERSTANDING.\n",
    "* References - Save relevant/suitable references links etc. for later.\n",
    "\n",
    "### five *Distributions\" functions\n",
    "* Google for blogposts and vlogposts for my chosen 5. Look at statistical resources on each of functions - wikipedia, mathisfun, youtube, revisionmaths.com\n",
    "* Chose those who I may have encountered in the past or have some prior knowledge. Maybe: Normal, Poisson, Binominal, Pareto, Exponential\n",
    "* Research - Go through the official documentaion - code using each parameter option.\n",
    "* Apply my own code examples on each function - CODE REFERENCING TO DEMONSTRATE UNDERSTANDING.\n",
    "* NB!!! to tie in the code with an explanation of the relevant statistical Distribution.\n",
    "* References - Save relevant/suitable references links etc. for later.\n",
    "* Attach Plot and image.\n",
    "\n",
    "### use of seeds in generating pseudorandom numbers\n",
    "*  Google for blogposts and vlogposts - stackexchange, researchgate, wikipedia etc.\n",
    "* Mention recent changes to how numpy calculates random seeds\n",
    "* Research - Go through the official documentaion - code using each parameter option.\n",
    "* Explain with coded examples the purpose of the seed generator\n",
    "\n",
    "## Some References to use in research - roughly in order with each section above\n",
    "\n",
    "* https://numpy.org/doc/stable/reference/random/index.html\n",
    "* https://towardsdatascience.com/mastering-random-sampling-in-python-ac2df84b7d3f\n",
    "* https://www.youtube.com/watch?v=GB9ByFAIAH4&t=2372s Keith Galli\n",
    "* https://medium.com/fintechexplained/why-should-we-use-numpy-c14a4fb03ee9\n",
    "* https://numpy.org/doc/stable/reference/random/generator.html#numpy.random.Generator\n",
    "* https://numpy.org/doc/stable/reference/random/generated/numpy.random.Generator.integers.html#numpy.random.Generator.integers (and for random, choice and bytes)\n",
    "* https://numpy.org/doc/stable/reference/random/generated/numpy.random.Generator.shuffle.html#numpy.random.Generator.shuffle (and for permutations)\n",
    "* https://www.w3schools.com/python/numpy_random_permutation.asp\n",
    "* https://numpy.org/doc/stable/reference/random/generated/numpy.random.Generator.binomial.html#numpy.random.Generator.binomial (and for normal, poisson, pareto, exponential)\n",
    "* https://revisionmaths.com/advanced-level-maths-revision/statistics\n",
    "* https://en.wikipedia.org/wiki/List_of_probability_distributions\n",
    "* https://albertcthomas.github.io/good-practices-random-number-generators/\n",
    "* https://en.wikipedia.org/wiki/Random_seed\n",
    "* https://www.statisticshowto.com/random-seed-definition/\n",
    "\n",
    "\n",
    "* https://guides.github.com/features/mastering-markdown/"
   ]
  },
  {
   "cell_type": "code",
   "execution_count": 2,
   "metadata": {},
   "outputs": [],
   "source": [
    "#Import Python Libaries\n",
    "\n",
    "#Import Numpy\n",
    "import numpy as np\n",
    "rng = np.random.default_rng()\n",
    "\n",
    "#Import Matplotlib\n",
    "import matplotlib.pyplot as plt\n",
    "\n",
    "plt.rcParams['figure.figsize'] = [16, 10] #https://stackoverflow.com/questions/36367986/how-to-make-inline-plots-in-jupyter-notebook-larger\n"
   ]
  },
  {
   "cell_type": "markdown",
   "metadata": {},
   "source": [
    "## Task 2: Simple random data and Permutations functions."
   ]
  },
  {
   "cell_type": "markdown",
   "metadata": {},
   "source": [
    "### integers function\n",
    "\n",
    "\n",
    "*integers(low[, high, size, dtype, endpoint])*\n",
    "\n",
    "*Return random integers from low (inclusive) to high (exclusive), or if endpoint=True, low (inclusive) to high (inclusive).*\n",
    "\n",
    "\n"
   ]
  },
  {
   "cell_type": "markdown",
   "metadata": {},
   "source": [
    "##### Integers Example 1\n",
    "\n",
    "* Code below returns an integer up to and not including 5. \n",
    "* Error if now value inputted. \n",
    "* Will accept a float if entered but will only ever return an integer.\n",
    "* Will accepted an integer as a string\n",
    "* Error if a float as a string (e.g. '5.2') or a string (e.g. 'Hello') is inputted\n"
   ]
  },
  {
   "cell_type": "code",
   "execution_count": 42,
   "metadata": {},
   "outputs": [
    {
     "name": "stdout",
     "output_type": "stream",
     "text": [
      "3\n",
      "1\n",
      "1\n"
     ]
    }
   ],
   "source": [
    "print(rng.integers(5))\n",
    "print(rng.integers(5.333))\n",
    "print(rng.integers('5'))"
   ]
  },
  {
   "cell_type": "markdown",
   "metadata": {},
   "source": [
    "Code below returns an array of integers from zero up to and not including 100. Array size is 25"
   ]
  },
  {
   "cell_type": "code",
   "execution_count": 43,
   "metadata": {
    "scrolled": true
   },
   "outputs": [
    {
     "name": "stdout",
     "output_type": "stream",
     "text": [
      "[96 78  8 52 59 85 21  5 62 37 36 55 85 10 26 69 20  0 83 91 93 16 25 34\n",
      " 70]\n"
     ]
    }
   ],
   "source": [
    "print(rng.integers(100, size=25))"
   ]
  },
  {
   "cell_type": "markdown",
   "metadata": {},
   "source": [
    "* Code below returns an array of integers from 10 (included) up to and not including 20. Array size is 25"
   ]
  },
  {
   "cell_type": "code",
   "execution_count": 44,
   "metadata": {},
   "outputs": [
    {
     "name": "stdout",
     "output_type": "stream",
     "text": [
      "[12 11 15 12 16 14 13 15 18 19 18 14 14 16 16 14 16 18 13 14 16 19 13 16\n",
      " 15]\n"
     ]
    }
   ],
   "source": [
    "print(rng.integers(10,20, size=25))"
   ]
  },
  {
   "cell_type": "markdown",
   "metadata": {},
   "source": [
    "##### Integers Example 2: Endpoint = True\n",
    "* Returns an array of integers and adding in endpoint=True means both the low and high numbers are included"
   ]
  },
  {
   "cell_type": "code",
   "execution_count": 48,
   "metadata": {},
   "outputs": [
    {
     "name": "stdout",
     "output_type": "stream",
     "text": [
      "[2 4 5 0 2 3 4 3 2 4]\n",
      "[3 2 4 3 5 2 2 5 4 4]\n"
     ]
    }
   ],
   "source": [
    "print(rng.integers(5, size=10, endpoint=True))\n",
    "print(rng.integers(2,5, size=10, endpoint=True))"
   ]
  },
  {
   "cell_type": "markdown",
   "metadata": {},
   "source": [
    "##### Integers Example 3: Mulitdimensional Array\n",
    "* Returns a two dimensional array with 2 rows and 5 columns (size = (2,5))"
   ]
  },
  {
   "cell_type": "code",
   "execution_count": 51,
   "metadata": {},
   "outputs": [
    {
     "name": "stdout",
     "output_type": "stream",
     "text": [
      "[[1 0 4 4 4]\n",
      " [2 4 1 1 4]]\n"
     ]
    }
   ],
   "source": [
    "print(rng.integers(5, size=(2,5)))"
   ]
  },
  {
   "cell_type": "markdown",
   "metadata": {},
   "source": [
    "* Returns a two dimensional array with 10 rows and 5 columns (size = (10,5))"
   ]
  },
  {
   "cell_type": "code",
   "execution_count": 52,
   "metadata": {},
   "outputs": [
    {
     "name": "stdout",
     "output_type": "stream",
     "text": [
      "[[2 0 0 0 1]\n",
      " [2 3 4 0 0]\n",
      " [1 4 2 1 4]\n",
      " [3 1 1 1 0]\n",
      " [2 0 3 0 3]\n",
      " [2 3 1 3 2]\n",
      " [1 0 2 4 2]\n",
      " [0 2 0 4 1]\n",
      " [1 3 0 1 1]\n",
      " [4 4 3 3 0]]\n"
     ]
    }
   ],
   "source": [
    "print(rng.integers(5, size=(10,5)))"
   ]
  },
  {
   "cell_type": "markdown",
   "metadata": {},
   "source": [
    "##### Integers Example 4 : Function Distribution\n",
    "\n",
    "We can investigate the distrubtion of the integers function. Four variables are created each with a different array size."
   ]
  },
  {
   "cell_type": "code",
   "execution_count": 142,
   "metadata": {},
   "outputs": [],
   "source": [
    "#array of ten integers from zero up to and not including 100 \n",
    "x = rng.integers(100, size=10)\n",
    "\n",
    "#array of a thousand integers from zero up to and not including 1000\n",
    "x2 = rng.integers(100, size =1000)\n",
    "\n",
    "#array of tenthousand integers from zero up to not including 10000\n",
    "x3 = rng.integers(100,size=10000)\n",
    "\n",
    "#array of 10 million integers from zero up to and not including 1000000\n",
    "x4 = rng.integers(100,size=1000000)\n"
   ]
  },
  {
   "cell_type": "markdown",
   "metadata": {},
   "source": [
    "Looking at the variables above, the integers function here will perform the same calculations as *np.random.default_rng().uniform(n,size)"
   ]
  },
  {
   "cell_type": "markdown",
   "metadata": {},
   "source": [
    "We can use Histograms to illustrate the distribution of the integer function"
   ]
  },
  {
   "cell_type": "code",
   "execution_count": 143,
   "metadata": {},
   "outputs": [
    {
     "data": {
      "image/png": "[encoded data removed]",
      "text/plain": [
       "<Figure size 1152x720 with 4 Axes>"
      ]
     },
     "metadata": {
      "needs_background": "light"
     },
     "output_type": "display_data"
    }
   ],
   "source": [
    "#Histograms\n",
    "#Plotting subplots ref:Lecture Video Ian McLoughlin https://web.microsoftstream.com/video/ed13c5bf-978f-4d8b-8ee6-c29ac054038f\n",
    "\n",
    "#subplot of 2 rows and 2 columns, position 1\n",
    "#plt.subplot(no of rows,no of cols,position)\n",
    "plt.subplot(2,2,1)\n",
    "plt.hist(x)\n",
    "\n",
    "plt.subplot(2,2,2)\n",
    "plt.hist(x2)\n",
    "\n",
    "plt.subplot(2,2,3)\n",
    "plt.hist(x3)\n",
    "\n",
    "plt.subplot(2,2,4)\n",
    "plt.hist(x4);\n",
    "\n"
   ]
  },
  {
   "cell_type": "markdown",
   "metadata": {},
   "source": [
    "From observing the above Histograms, we can see the bigger the sample size used in this function, the more uniform the distribution it creates.\n",
    "\n",
    "*Return random integers from the “discrete uniform” distribution of the specified dtype. If high is None (the default), then results are from 0 to low.*"
   ]
  },
  {
   "cell_type": "markdown",
   "metadata": {},
   "source": [
    "### random function\n",
    "\n",
    "\n",
    "*random(size=None, dtype=np.float64, out=None)*\n",
    "\n",
    "*Return random floats in the half-open interval [0.0, 1.0).*"
   ]
  },
  {
   "cell_type": "markdown",
   "metadata": {},
   "source": [
    "##### Random Example 1\n",
    "* return a random float between 0.0 and 1.0\n",
    "* Will work without passing any argument unlike the integers function"
   ]
  },
  {
   "cell_type": "code",
   "execution_count": 58,
   "metadata": {},
   "outputs": [
    {
     "data": {
      "text/plain": [
       "0.8509394112013502"
      ]
     },
     "execution_count": 58,
     "metadata": {},
     "output_type": "execute_result"
    }
   ],
   "source": [
    "rng.random()"
   ]
  },
  {
   "cell_type": "markdown",
   "metadata": {},
   "source": [
    "* Passing a value will produce an array. For the example below, passing 5 will create an array with 5 random float numbers"
   ]
  },
  {
   "cell_type": "code",
   "execution_count": 61,
   "metadata": {},
   "outputs": [
    {
     "name": "stdout",
     "output_type": "stream",
     "text": [
      "[0.72049116 0.97851612 0.75601851 0.97824289 0.78463442]\n"
     ]
    }
   ],
   "source": [
    "print(rng.random(5))"
   ]
  },
  {
   "cell_type": "markdown",
   "metadata": {},
   "source": [
    "* 1st piece of code below creates an array of 5 rows and 2 columns\n",
    "* 2nd piece of code belwo creates and array of 2 rows and 5 columns"
   ]
  },
  {
   "cell_type": "code",
   "execution_count": 64,
   "metadata": {},
   "outputs": [
    {
     "name": "stdout",
     "output_type": "stream",
     "text": [
      "[[0.05547498 0.40458969]\n",
      " [0.56253797 0.64987828]\n",
      " [0.92546245 0.2574035 ]\n",
      " [0.72929584 0.40968408]\n",
      " [0.43674332 0.47832722]]\n",
      " \n",
      "[[0.26811033 0.10488871 0.9537263  0.04668057 0.6382171 ]\n",
      " [0.00146957 0.9564566  0.22744298 0.16880209 0.57668274]]\n"
     ]
    }
   ],
   "source": [
    "print(rng.random((5,2)))\n",
    "print(\" \")\n",
    "print(rng.random((2,5)))"
   ]
  },
  {
   "cell_type": "markdown",
   "metadata": {},
   "source": [
    "By default, this function will return values between 0.0 and 1.0. We can increase this by adding a value before or after the function\n",
    "\n",
    "* adding + 2 after the function will retrun an array of 5 numbers between 2.0 and 3.0"
   ]
  },
  {
   "cell_type": "code",
   "execution_count": 66,
   "metadata": {},
   "outputs": [
    {
     "name": "stdout",
     "output_type": "stream",
     "text": [
      "[2.83489078 2.72947063 2.01927274 2.90043944 2.48710711]\n"
     ]
    }
   ],
   "source": [
    "print(rng.random(5) +2)"
   ]
  },
  {
   "cell_type": "markdown",
   "metadata": {},
   "source": [
    "* Adding a multiplication before the function will return an array for example below returns an array of 15 random numbers from [0.0 - 10.0]"
   ]
  },
  {
   "cell_type": "code",
   "execution_count": 69,
   "metadata": {},
   "outputs": [
    {
     "name": "stdout",
     "output_type": "stream",
     "text": [
      "[6.67451837 9.06636179 6.64743087 2.93406675 2.00900149 4.71049998\n",
      " 3.25993229 1.88896147 1.50037576 3.25944899 1.31522701 5.31101192\n",
      " 5.78290371 3.90979253 2.27462607]\n"
     ]
    }
   ],
   "source": [
    "print(10 * rng.random(15))"
   ]
  },
  {
   "cell_type": "markdown",
   "metadata": {},
   "source": [
    "* The below example returns a FOUR by THREE array of random numbers from -3 to 0"
   ]
  },
  {
   "cell_type": "code",
   "execution_count": 71,
   "metadata": {},
   "outputs": [
    {
     "name": "stdout",
     "output_type": "stream",
     "text": [
      "[[-2.57138153 -2.57042227 -2.52021055]\n",
      " [-1.66596733 -0.69011809 -2.48469489]\n",
      " [-0.5038768  -0.51446882 -2.01835336]\n",
      " [-1.92036709 -1.61995517 -2.05098135]]\n"
     ]
    }
   ],
   "source": [
    "print(3 * rng.random((4,3)) - 3)"
   ]
  },
  {
   "cell_type": "markdown",
   "metadata": {},
   "source": [
    "Just like we did previously with the *integers* function we will can illustrate this function on a series of Histograms.\n",
    "\n",
    "* 6 variables that return different array sizes\n",
    "\n",
    "See how distribution again becomes more uniform as the sample size increases"
   ]
  },
  {
   "cell_type": "code",
   "execution_count": 72,
   "metadata": {},
   "outputs": [],
   "source": [
    "# variables with different sample sizes\n",
    "y = rng.random(10)\n",
    "y2 = rng.random(100)\n",
    "y3 = rng.random(1000)\n",
    "y4 = rng.random(10000)\n",
    "y5 = rng.random(100000)\n",
    "y6 = rng.random(1000000)"
   ]
  },
  {
   "cell_type": "code",
   "execution_count": 73,
   "metadata": {},
   "outputs": [
    {
     "data": {
      "image/png": "[encoded data removed]",
      "text/plain": [
       "<Figure size 1152x720 with 6 Axes>"
      ]
     },
     "metadata": {
      "needs_background": "light"
     },
     "output_type": "display_data"
    }
   ],
   "source": [
    "plt.subplot(3,2,1)\n",
    "plt.hist(y)\n",
    "\n",
    "plt.subplot(3,2,2)\n",
    "plt.hist(y2)\n",
    "\n",
    "plt.subplot(3,2,3)\n",
    "plt.hist(y3)\n",
    "\n",
    "plt.subplot(3,2,4)\n",
    "plt.hist(y4)\n",
    "\n",
    "plt.subplot(3,2,5)\n",
    "plt.hist(y5)\n",
    "\n",
    "plt.subplot(3,2,6)\n",
    "plt.hist(y6);"
   ]
  },
  {
   "cell_type": "markdown",
   "metadata": {},
   "source": [
    "From observing the above Histograms, we can see the bigger the sample size used in this function, the more uniform the distribution it creates.\n",
    "\n",
    "*Results are from the “continuous uniform” distribution over the stated interval.*"
   ]
  }
 ],
 "metadata": {
  "kernelspec": {
   "display_name": "Python 3",
   "language": "python",
   "name": "python3"
  },
  "language_info": {
   "codemirror_mode": {
    "name": "ipython",
    "version": 3
   },
   "file_extension": ".py",
   "mimetype": "text/x-python",
   "name": "python",
   "nbconvert_exporter": "python",
   "pygments_lexer": "ipython3",
   "version": "3.8.3"
  }
 },
 "nbformat": 4,
 "nbformat_minor": 4
}
