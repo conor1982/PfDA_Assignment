{
 "cells": [
  {
   "attachments": {
    "Numpy_Logo.png": {
     "image/png": "[encoded data removed]"
    }
   },
   "cell_type": "markdown",
   "metadata": {},
   "source": [
    "# Programming for Data Analysis Assignment\n",
    "![Numpy_Logo.png](attachment:Numpy_Logo.png)\n",
    "\n",
    "# Project Plan (PP) and Overview\n",
    "* For the README - (might be good to inlcude in initial Jupyter notebook for convience)\n",
    "\n",
    "## Problem Statement - Explain the use of the Numpy.random package\n",
    "\n",
    "1. Explain Overall purpose of the package\n",
    "2. Explain the use of the *Simple random* data and *Permutations* functions.\n",
    "3. Explain the use and purpose of at least five *Distribuitons\" functions.\n",
    "4. Explain the use of seeds in generating pseudorandom numbers.\n",
    "\n",
    "## Software and Presentation\n",
    "* Jupyter Notebook.\n",
    "* Github for version control.\n",
    "* https://numpy.org/doc/stable/reference/random/index.html -V19 documentaion.\n",
    "* Make full use of jupyter functionality in terms of code, plots, pictures, markdown etc.\n",
    "* Git hub README just to contain what is in the REPO and how to run Jupyter notebook.\n",
    "* Clean well referenced and concise coding\n",
    "\n",
    "## 4 Problem Statements PP\n",
    "\n",
    "### Overall purpose of the package\n",
    "* Research - Google for blogposts and vlogposts, tutorials etc. on Numpy and numpy.random - (Stackoverflow, medium, science direct, towardsdatascience,  youtube and of course the official documentaion.\n",
    "* References - Save relevant/suitable references links etc. for later.\n",
    "* Examples through my own code.\n",
    "* Attach any decent images, plots.\n",
    "\n",
    "### *Simple random* data and *Permutations* functions\n",
    "* Research - Go through the official documentaion - code using each parameter option.\n",
    "* Apply my own code examples on each function - CODE REFERENCING TO DEMONSTRATE UNDERSTANDING.\n",
    "* References - Save relevant/suitable references links etc. for later.\n",
    "\n",
    "### five *Distributions\" functions\n",
    "* Google for blogposts and vlogposts for my chosen 5. Look at statistical resources on each of functions - wikipedia, mathisfun, youtube, revisionmaths.com\n",
    "* Chose those who I may have encountered in the past or have some prior knowledge. Maybe: Normal, Poisson, Binominal, Pareto, Exponential\n",
    "* Research - Go through the official documentaion - code using each parameter option.\n",
    "* Apply my own code examples on each function - CODE REFERENCING TO DEMONSTRATE UNDERSTANDING.\n",
    "* NB!!! to tie in the code with an explanation of the relevant statistical Distribution.\n",
    "* References - Save relevant/suitable references links etc. for later.\n",
    "* Attach Plot and image.\n",
    "\n",
    "### use of seeds in generating pseudorandom numbers\n",
    "*  Google for blogposts and vlogposts - stackexchange, researchgate, wikipedia etc.\n",
    "* Mention recent changes to how numpy calculates random seeds\n",
    "* Research - Go through the official documentaion - code using each parameter option.\n",
    "* Explain with coded examples the purpose of the seed generator\n",
    "\n",
    "## Some References to use in research - roughly in order with each section above\n",
    "\n",
    "* https://numpy.org/doc/stable/reference/random/index.html\n",
    "* https://towardsdatascience.com/mastering-random-sampling-in-python-ac2df84b7d3f\n",
    "* https://www.youtube.com/watch?v=GB9ByFAIAH4&t=2372s Keith Galli\n",
    "* https://medium.com/fintechexplained/why-should-we-use-numpy-c14a4fb03ee9\n",
    "* https://numpy.org/doc/stable/reference/random/generator.html#numpy.random.Generator\n",
    "* https://numpy.org/doc/stable/reference/random/generated/numpy.random.Generator.integers.html#numpy.random.Generator.integers (and for random, choice and bytes)\n",
    "* https://numpy.org/doc/stable/reference/random/generated/numpy.random.Generator.shuffle.html#numpy.random.Generator.shuffle (and for permutations)\n",
    "* https://www.w3schools.com/python/numpy_random_permutation.asp\n",
    "* https://numpy.org/doc/stable/reference/random/generated/numpy.random.Generator.binomial.html#numpy.random.Generator.binomial (and for normal, poisson, pareto, exponential)\n",
    "* https://revisionmaths.com/advanced-level-maths-revision/statistics\n",
    "* https://en.wikipedia.org/wiki/List_of_probability_distributions\n",
    "* https://albertcthomas.github.io/good-practices-random-number-generators/\n",
    "* https://en.wikipedia.org/wiki/Random_seed\n",
    "* https://www.statisticshowto.com/random-seed-definition/\n",
    "\n",
    "\n",
    "* https://guides.github.com/features/mastering-markdown/"
   ]
  },
  {
   "cell_type": "code",
   "execution_count": 1,
   "metadata": {},
   "outputs": [],
   "source": [
    "#Import Python Libaries\n",
    "\n",
    "#Import Numpy\n",
    "import numpy as np\n",
    "rng = np.random.default_rng()\n",
    "\n",
    "#Import Matplotlib\n",
    "import matplotlib.pyplot as plt\n",
    "\n",
    "plt.rcParams['figure.figsize'] = [16, 10] #https://stackoverflow.com/questions/36367986/how-to-make-inline-plots-in-jupyter-notebook-larger\n"
   ]
  },
  {
   "cell_type": "markdown",
   "metadata": {},
   "source": [
    "## Task 2: Simple random data and Permutations functions."
   ]
  },
  {
   "cell_type": "markdown",
   "metadata": {},
   "source": [
    "### integers function\n",
    "\n",
    "\n",
    "*integers(low[, high, size, dtype, endpoint])*\n",
    "\n",
    "*Return random integers from low (inclusive) to high (exclusive), or if endpoint=True, low (inclusive) to high (inclusive).*\n",
    "\n",
    "\n"
   ]
  },
  {
   "cell_type": "markdown",
   "metadata": {},
   "source": [
    "##### Integers Example 1\n",
    "\n",
    "* Code below returns an integer up to and not including 5. \n",
    "* Error if now value inputted. \n",
    "* Will accept a float if entered but will only ever return an integer.\n",
    "* Will accepted an integer as a string\n",
    "* Error if a float as a string (e.g. '5.2') or a string (e.g. 'Hello') is inputted\n"
   ]
  },
  {
   "cell_type": "code",
   "execution_count": 2,
   "metadata": {},
   "outputs": [
    {
     "name": "stdout",
     "output_type": "stream",
     "text": [
      "1\n",
      "4\n",
      "1\n"
     ]
    }
   ],
   "source": [
    "print(rng.integers(5))\n",
    "print(rng.integers(5.333))\n",
    "print(rng.integers('5'))"
   ]
  },
  {
   "cell_type": "markdown",
   "metadata": {},
   "source": [
    "Code below returns an array of integers from zero up to and not including 100. Array size is 25"
   ]
  },
  {
   "cell_type": "code",
   "execution_count": 3,
   "metadata": {
    "scrolled": true
   },
   "outputs": [
    {
     "name": "stdout",
     "output_type": "stream",
     "text": [
      "[33 78 76 52 43 77 29 81 12 30 80 21 87 50 94 25 56 71 91  7 12 65 97 39\n",
      " 34]\n"
     ]
    }
   ],
   "source": [
    "print(rng.integers(100, size=25))"
   ]
  },
  {
   "cell_type": "markdown",
   "metadata": {},
   "source": [
    "* Code below returns an array of integers from 10 (included) up to and not including 20. Array size is 25"
   ]
  },
  {
   "cell_type": "code",
   "execution_count": 4,
   "metadata": {},
   "outputs": [
    {
     "name": "stdout",
     "output_type": "stream",
     "text": [
      "[18 11 12 12 17 19 19 11 14 11 10 19 11 15 13 19 10 19 16 14 15 17 17 10\n",
      " 10]\n"
     ]
    }
   ],
   "source": [
    "print(rng.integers(10,20, size=25))"
   ]
  },
  {
   "cell_type": "markdown",
   "metadata": {},
   "source": [
    "##### Integers Example 2: Endpoint = True\n",
    "* Returns an array of integers and adding in endpoint=True means both the low and high numbers are included"
   ]
  },
  {
   "cell_type": "code",
   "execution_count": 5,
   "metadata": {},
   "outputs": [
    {
     "name": "stdout",
     "output_type": "stream",
     "text": [
      "[3 4 1 3 2 5 2 5 1 2]\n",
      "[2 4 2 3 2 5 3 4 2 2]\n"
     ]
    }
   ],
   "source": [
    "print(rng.integers(5, size=10, endpoint=True))\n",
    "print(rng.integers(2,5, size=10, endpoint=True))"
   ]
  },
  {
   "cell_type": "markdown",
   "metadata": {},
   "source": [
    "##### Integers Example 3: Mulitdimensional Array\n",
    "* Returns a two dimensional array with 2 rows and 5 columns (size = (2,5))"
   ]
  },
  {
   "cell_type": "code",
   "execution_count": 6,
   "metadata": {},
   "outputs": [
    {
     "name": "stdout",
     "output_type": "stream",
     "text": [
      "[[3 1 3 2 4]\n",
      " [1 1 4 3 4]]\n"
     ]
    }
   ],
   "source": [
    "print(rng.integers(5, size=(2,5)))"
   ]
  },
  {
   "cell_type": "markdown",
   "metadata": {},
   "source": [
    "* Returns a two dimensional array with 10 rows and 5 columns (size = (10,5))"
   ]
  },
  {
   "cell_type": "code",
   "execution_count": 7,
   "metadata": {},
   "outputs": [
    {
     "name": "stdout",
     "output_type": "stream",
     "text": [
      "[[2 0 0 3 2]\n",
      " [3 0 0 4 4]\n",
      " [0 2 4 4 2]\n",
      " [0 0 2 4 0]\n",
      " [1 2 3 1 2]\n",
      " [0 4 0 2 0]\n",
      " [1 1 4 4 3]\n",
      " [2 2 2 0 4]\n",
      " [3 4 4 4 4]\n",
      " [2 0 4 4 4]]\n"
     ]
    }
   ],
   "source": [
    "print(rng.integers(5, size=(10,5)))"
   ]
  },
  {
   "cell_type": "markdown",
   "metadata": {},
   "source": [
    "##### Integers Example 4 : Function Distribution\n",
    "\n",
    "We can investigate the distrubtion of the integers function. Four variables are created each with a different array size."
   ]
  },
  {
   "cell_type": "code",
   "execution_count": 8,
   "metadata": {},
   "outputs": [],
   "source": [
    "#array of ten integers from zero up to and not including 100 \n",
    "x = rng.integers(100, size=10)\n",
    "\n",
    "#array of a thousand integers from zero up to and not including 1000\n",
    "x2 = rng.integers(100, size =1000)\n",
    "\n",
    "#array of tenthousand integers from zero up to not including 10000\n",
    "x3 = rng.integers(100,size=10000)\n",
    "\n",
    "#array of 10 million integers from zero up to and not including 1000000\n",
    "x4 = rng.integers(100,size=1000000)\n"
   ]
  },
  {
   "cell_type": "markdown",
   "metadata": {},
   "source": [
    "Looking at the variables above, the integers function here will perform the same calculations as *np.random.default_rng().uniform(n,size)"
   ]
  },
  {
   "cell_type": "markdown",
   "metadata": {},
   "source": [
    "We can use Histograms to illustrate the distribution of the integer function"
   ]
  },
  {
   "cell_type": "code",
   "execution_count": 9,
   "metadata": {},
   "outputs": [
    {
     "data": {
      "image/png": "[encoded data removed]",
      "text/plain": [
       "<Figure size 1152x720 with 4 Axes>"
      ]
     },
     "metadata": {
      "needs_background": "light"
     },
     "output_type": "display_data"
    }
   ],
   "source": [
    "#TO ADD HISTOGRAM AXIS LABELS AND TITLE\n",
    "\n",
    "#Histograms\n",
    "#Plotting subplots ref:Lecture Video Ian McLoughlin https://web.microsoftstream.com/video/ed13c5bf-978f-4d8b-8ee6-c29ac054038f\n",
    "\n",
    "#subplot of 2 rows and 2 columns, position 1\n",
    "#plt.subplot(no of rows,no of cols,position)\n",
    "plt.subplot(2,2,1)\n",
    "plt.hist(x)\n",
    "\n",
    "plt.subplot(2,2,2)\n",
    "plt.hist(x2)\n",
    "\n",
    "plt.subplot(2,2,3)\n",
    "plt.hist(x3)\n",
    "\n",
    "plt.subplot(2,2,4)\n",
    "plt.hist(x4);\n",
    "\n"
   ]
  },
  {
   "cell_type": "markdown",
   "metadata": {},
   "source": [
    "From observing the above Histograms, we can see the bigger the sample size used in this function, the more uniform the distribution it creates.\n",
    "\n",
    "*Return random integers from the “discrete uniform” distribution of the specified dtype. If high is None (the default), then results are from 0 to low.*"
   ]
  },
  {
   "cell_type": "markdown",
   "metadata": {},
   "source": [
    "### random function\n",
    "\n",
    "\n",
    "*random(size=None, dtype=np.float64, out=None)*\n",
    "\n",
    "*Return random floats in the half-open interval [0.0, 1.0).*"
   ]
  },
  {
   "cell_type": "markdown",
   "metadata": {},
   "source": [
    "##### Random Example 1\n",
    "* return a random float between 0.0 and 1.0\n",
    "* Will work without passing any argument unlike the integers function"
   ]
  },
  {
   "cell_type": "code",
   "execution_count": 10,
   "metadata": {},
   "outputs": [
    {
     "data": {
      "text/plain": [
       "0.3375956422654368"
      ]
     },
     "execution_count": 10,
     "metadata": {},
     "output_type": "execute_result"
    }
   ],
   "source": [
    "rng.random()"
   ]
  },
  {
   "cell_type": "markdown",
   "metadata": {},
   "source": [
    "#### Random Example 2\n",
    "* Passing a value will produce an array. For the example below, passing 5 will create an array with 5 random float numbers"
   ]
  },
  {
   "cell_type": "code",
   "execution_count": 11,
   "metadata": {},
   "outputs": [
    {
     "name": "stdout",
     "output_type": "stream",
     "text": [
      "[0.49484575 0.32257156 0.61976259 0.06240958 0.37087876]\n"
     ]
    }
   ],
   "source": [
    "print(rng.random(5))"
   ]
  },
  {
   "cell_type": "markdown",
   "metadata": {},
   "source": [
    "##### Random Example 3 - multi dimensional array\n",
    "* 1st piece of code below creates an array of 5 rows and 2 columns\n",
    "* 2nd piece of code belwo creates and array of 2 rows and 5 columns"
   ]
  },
  {
   "cell_type": "code",
   "execution_count": 12,
   "metadata": {},
   "outputs": [
    {
     "name": "stdout",
     "output_type": "stream",
     "text": [
      "[[0.96253509 0.02129298]\n",
      " [0.49914289 0.89288718]\n",
      " [0.60825288 0.91056906]\n",
      " [0.51153787 0.37409295]\n",
      " [0.80154988 0.94091362]]\n",
      " \n",
      "[[0.3267738  0.05305225 0.95868256 0.79050862 0.4574364 ]\n",
      " [0.77078945 0.99709131 0.47887077 0.13689706 0.4488747 ]]\n"
     ]
    }
   ],
   "source": [
    "print(rng.random((5,2)))\n",
    "print(\" \")\n",
    "print(rng.random((2,5)))"
   ]
  },
  {
   "cell_type": "markdown",
   "metadata": {},
   "source": [
    "#### Random Example 4 - Arrays greater than [0.0 - 1.0]\n",
    "By default, this function will return values between 0.0 and 1.0. We can increase this by adding a value before or after the function\n",
    "\n",
    "* adding + 2 after the function will retrun an array of 5 numbers between 2.0 and 3.0"
   ]
  },
  {
   "cell_type": "code",
   "execution_count": 13,
   "metadata": {},
   "outputs": [
    {
     "name": "stdout",
     "output_type": "stream",
     "text": [
      "[2.12381885 2.34695824 2.6713195  2.48233394 2.81322256]\n"
     ]
    }
   ],
   "source": [
    "print(rng.random(5) +2)"
   ]
  },
  {
   "cell_type": "markdown",
   "metadata": {},
   "source": [
    "* Adding a multiplication before the function will return an array for example below returns an array of 15 random numbers from [0.0 - 10.0]"
   ]
  },
  {
   "cell_type": "code",
   "execution_count": 14,
   "metadata": {},
   "outputs": [
    {
     "name": "stdout",
     "output_type": "stream",
     "text": [
      "[2.45082326 0.10813323 4.34398989 7.66234724 6.69462006 0.14087208\n",
      " 4.59872013 2.35468732 7.21260662 2.1222715  3.54678716 7.38279154\n",
      " 1.94314514 2.76747528 0.54617409]\n"
     ]
    }
   ],
   "source": [
    "print(10 * rng.random(15))"
   ]
  },
  {
   "cell_type": "markdown",
   "metadata": {},
   "source": [
    "* The below example returns a FOUR by THREE array of random numbers from -3 to 0"
   ]
  },
  {
   "cell_type": "code",
   "execution_count": 15,
   "metadata": {},
   "outputs": [
    {
     "name": "stdout",
     "output_type": "stream",
     "text": [
      "[[-2.70123218 -1.83238224 -2.09743459]\n",
      " [-2.19047019 -1.53247956 -2.39839226]\n",
      " [-0.88376484 -1.35828094 -2.53163363]\n",
      " [-1.70265768 -2.25907287 -1.14828386]]\n"
     ]
    }
   ],
   "source": [
    "print(3 * rng.random((4,3)) - 3)"
   ]
  },
  {
   "cell_type": "markdown",
   "metadata": {},
   "source": [
    "##### Random example 5 - Function Distribution\n",
    "Just like we did previously with the *integers* function we will can illustrate this function on a series of Histograms.\n",
    "\n",
    "* 6 variables that return different array sizes\n",
    "\n",
    "See how distribution again becomes more uniform as the sample size increases"
   ]
  },
  {
   "cell_type": "code",
   "execution_count": 16,
   "metadata": {},
   "outputs": [],
   "source": [
    "# variables with different sample sizes\n",
    "y = rng.random(10)\n",
    "y2 = rng.random(100)\n",
    "y3 = rng.random(1000)\n",
    "y4 = rng.random(10000)\n",
    "y5 = rng.random(100000)\n",
    "y6 = rng.random(1000000)"
   ]
  },
  {
   "cell_type": "code",
   "execution_count": 17,
   "metadata": {},
   "outputs": [
    {
     "data": {
      "image/png": "[encoded data removed]",
      "text/plain": [
       "<Figure size 1152x720 with 6 Axes>"
      ]
     },
     "metadata": {
      "needs_background": "light"
     },
     "output_type": "display_data"
    }
   ],
   "source": [
    "#TO ADD HISTOGRAM AXIS LABELS AND TITLE\n",
    "plt.subplot(3,2,1)\n",
    "plt.hist(y)\n",
    "\n",
    "plt.subplot(3,2,2)\n",
    "plt.hist(y2)\n",
    "\n",
    "plt.subplot(3,2,3)\n",
    "plt.hist(y3)\n",
    "\n",
    "plt.subplot(3,2,4)\n",
    "plt.hist(y4)\n",
    "\n",
    "plt.subplot(3,2,5)\n",
    "plt.hist(y5)\n",
    "\n",
    "plt.subplot(3,2,6)\n",
    "plt.hist(y6);"
   ]
  },
  {
   "cell_type": "markdown",
   "metadata": {},
   "source": [
    "From observing the above Histograms, we can see the bigger the sample size used in this function, the more uniform the distribution it creates.\n",
    "\n",
    "*Results are from the “continuous uniform” distribution over the stated interval.*"
   ]
  },
  {
   "cell_type": "markdown",
   "metadata": {},
   "source": [
    "### choice function\n",
    "\n",
    "*choice(a, size=None, replace=True, p=None, axis=0, shuffle=True)*\n",
    "\n",
    "*Generates a random sample from a given 1-D array*"
   ]
  },
  {
   "cell_type": "markdown",
   "metadata": {},
   "source": [
    "#### Choice Function Example 1\n",
    "\n",
    "* takes at least one positional argument (similar to integer function)\n",
    "* no argument will return *TypeError: choice() takes at least 1 positional argument (0 given)*\n",
    "* Code below returns an array of 3 integers\n",
    "* Code below will wretunr random integers up to but not including 20\n",
    "* can only be 1 dimenesional or an integer otherwise:\n",
    "*ValueError: a must be 1-dimensional or an integer* and \n",
    "*TypeError: 'float' object cannot be interpreted as an integer*"
   ]
  },
  {
   "cell_type": "code",
   "execution_count": 18,
   "metadata": {},
   "outputs": [
    {
     "name": "stdout",
     "output_type": "stream",
     "text": [
      "[ 9 10 12]\n",
      "[19 17 14]\n"
     ]
    }
   ],
   "source": [
    "print(rng.choice(20,3))\n",
    "\n",
    "#can also type size = 3\n",
    "print(rng.choice(20,size=3))"
   ]
  },
  {
   "cell_type": "markdown",
   "metadata": {},
   "source": [
    "#### Choice Function Example 2 - Replacement and Non Replacment\n",
    "* 1st line of Code - *replace = False* will always return unique samples\n",
    "* 2nd line of Code - *replace = True* can repeat samples\n",
    "* *replace = True* set by defualt\n"
   ]
  },
  {
   "cell_type": "code",
   "execution_count": 19,
   "metadata": {},
   "outputs": [
    {
     "name": "stdout",
     "output_type": "stream",
     "text": [
      "[0 4 3 2 1]\n",
      "[4 2 4 3 2]\n"
     ]
    }
   ],
   "source": [
    "print(rng.choice(5,5,replace=False))\n",
    "print(rng.choice(5,5,replace=True))"
   ]
  },
  {
   "cell_type": "markdown",
   "metadata": {},
   "source": [
    "#### Choice Function Example 3 - *p1-D array_like, optional*\n",
    "* applying values for the argument *p* allows to create an non uniform distribution\n",
    "* if none given, a uniform distribution is assummed\n",
    "* variabla a below - p values have been assigned\n",
    "* variable b below - no p values, functions runs as default, uniform distribution"
   ]
  },
  {
   "cell_type": "code",
   "execution_count": 20,
   "metadata": {},
   "outputs": [
    {
     "data": {
      "image/png": "[encoded data removed]",
      "text/plain": [
       "<Figure size 1152x720 with 2 Axes>"
      ]
     },
     "metadata": {
      "needs_background": "light"
     },
     "output_type": "display_data"
    }
   ],
   "source": [
    "#TO ADD HISTOGRAM AXIS LABELS AND TITLE\n",
    "a = rng.choice(5,10000, p=[0.1, 0.05, 0.2, 0.55, 0.1])\n",
    "b = rng.choice(5,10000)\n",
    "plt.subplot(2,1,1)\n",
    "plt.hist(a)\n",
    "plt.subplot(2,1,2)\n",
    "plt.hist(b);"
   ]
  },
  {
   "cell_type": "markdown",
   "metadata": {},
   "source": [
    "### bytes function\n",
    "*bytes(length)* \n",
    "\n",
    "*Return random bytes*\n",
    "\n",
    "* Bytes function only takes one parameter which is lenght\n",
    "* Determines the number of bytes returned.\n",
    "* This parameter is mandatory."
   ]
  },
  {
   "cell_type": "code",
   "execution_count": 21,
   "metadata": {},
   "outputs": [
    {
     "name": "stdout",
     "output_type": "stream",
     "text": [
      "b'\\x88\\xc4\\xe5T\\r\\xcc\\xfc\\xc7\\xd2\\xf3'\n",
      "b'@'\n",
      "b'\\xb9\\x93\\xc9\\xc3|\\x1e\\x14\\xd6\\xb2i\\x8ez\\x9f\\xdf\\xb1(z\\x98\\xfa\\xbaP\\xc9\\x15\\xf5\\r'\n"
     ]
    }
   ],
   "source": [
    "print(rng.bytes(10))\n",
    "print(rng.bytes(1))\n",
    "print(rng.bytes(25))"
   ]
  },
  {
   "cell_type": "markdown",
   "metadata": {},
   "source": [
    "### shuffle function\n",
    "*shuffle(x, axis=0)*\n",
    "\n",
    "*Modify a sequence in-place by shuffling its contents.*\n",
    "\n",
    "* shuffle function does not create an new array just rearanges the contents of the given argument\n",
    "* shuffle function reurns nothing"
   ]
  },
  {
   "cell_type": "code",
   "execution_count": 22,
   "metadata": {},
   "outputs": [
    {
     "name": "stdout",
     "output_type": "stream",
     "text": [
      "[ 1  2  3  4  5  6  7  8  9 10 11 12 13 14 15 16 17 18 19 20 21 22 23 24\n",
      " 25 26 27 28 29 30 31 32 33 34 35 36 37 38 39 40 41 42]\n"
     ]
    }
   ],
   "source": [
    "#numpy array of integers from and including 1 to and not including 43\n",
    "lotto = np.arange(1,43)\n",
    "print(lotto)"
   ]
  },
  {
   "cell_type": "markdown",
   "metadata": {},
   "source": [
    "* Simulate the lotto numbers using shuffle function"
   ]
  },
  {
   "cell_type": "code",
   "execution_count": 23,
   "metadata": {},
   "outputs": [
    {
     "name": "stdout",
     "output_type": "stream",
     "text": [
      "[15 27 37  5 17 38  9 40 22  4 10 30 20  8 25 39 21 23  1 19 11 14 24 31\n",
      " 18 35 12 42  7  3 13 29  6 36 16 41  2 34 33 26 28 32]\n",
      "\n",
      "The winning numbers are: [15 27 37  5 17 38]\n"
     ]
    }
   ],
   "source": [
    "#shuffle function - nothing returned\n",
    "rng.shuffle(lotto)\n",
    "\n",
    "#lotto variable values are now shuffled\n",
    "print(lotto)\n",
    "print()\n",
    "\n",
    "#return fist 6 values of the lotto array after shuffle \n",
    "nums = lotto[0:6]\n",
    "print(\"The winning numbers are:\",nums)\n"
   ]
  },
  {
   "cell_type": "markdown",
   "metadata": {},
   "source": [
    "* shuffle function can also shuffle multi dimensional arrays"
   ]
  },
  {
   "cell_type": "code",
   "execution_count": 24,
   "metadata": {},
   "outputs": [
    {
     "data": {
      "text/plain": [
       "array([[ 8,  9, 10, 11],\n",
       "       [ 0,  1,  2,  3],\n",
       "       [ 4,  5,  6,  7]])"
      ]
     },
     "execution_count": 24,
     "metadata": {},
     "output_type": "execute_result"
    }
   ],
   "source": [
    "arr = np.arange(12).reshape((3,4))\n",
    "rng.shuffle(arr)\n",
    "arr"
   ]
  },
  {
   "cell_type": "markdown",
   "metadata": {},
   "source": [
    "* applying the optional parameter *axis=1* will only shuffle to order\n",
    "* Therefore,in code below, 1st row of the array will always contain in some order [0,1,2,3]"
   ]
  },
  {
   "cell_type": "code",
   "execution_count": 25,
   "metadata": {},
   "outputs": [
    {
     "data": {
      "text/plain": [
       "array([[ 0,  2,  1,  3],\n",
       "       [ 4,  6,  5,  7],\n",
       "       [ 8, 10,  9, 11]])"
      ]
     },
     "execution_count": 25,
     "metadata": {},
     "output_type": "execute_result"
    }
   ],
   "source": [
    "arr = np.arange(12).reshape((3,4))\n",
    "rng.shuffle(arr, axis=1)\n",
    "arr"
   ]
  },
  {
   "cell_type": "markdown",
   "metadata": {},
   "source": [
    "### permutation(x, axis=0)\n",
    "*(x, axis=0)*\n",
    "\n",
    "*Randomly permute a sequence, or return a permuted range.*\n",
    "\n",
    "* Differing slightly to the shuffle array, this function will return a new shuffled array.\n",
    "* The extra step of running the original array again is not required"
   ]
  },
  {
   "cell_type": "code",
   "execution_count": 26,
   "metadata": {},
   "outputs": [
    {
     "data": {
      "text/plain": [
       "array([12,  9, 18, 36, 27, 32,  6, 37, 40,  4, 34, 31, 25, 38, 10, 26, 14,\n",
       "       42,  2, 17, 30,  1, 41, 33, 15, 39, 11, 24, 29, 35, 19,  8, 23, 13,\n",
       "        5, 21, 16,  7,  3, 28, 20, 22])"
      ]
     },
     "execution_count": 26,
     "metadata": {},
     "output_type": "execute_result"
    }
   ],
   "source": [
    "rng.permutation(lotto)"
   ]
  },
  {
   "cell_type": "code",
   "execution_count": 27,
   "metadata": {},
   "outputs": [
    {
     "name": "stdout",
     "output_type": "stream",
     "text": [
      "The winning numbers are: [38 17 37  5 27 15]\n"
     ]
    }
   ],
   "source": [
    "winning_nums = rng.permutation(lotto[0:6])\n",
    "print(\"The winning numbers are:\", winning_nums)\n"
   ]
  },
  {
   "cell_type": "markdown",
   "metadata": {},
   "source": [
    "* The same applies when using it on multidimensional arrays.\n",
    "* The *axis = 1* argument also does the same thing as it does in rng.shuffle "
   ]
  },
  {
   "cell_type": "code",
   "execution_count": 28,
   "metadata": {},
   "outputs": [
    {
     "name": "stdout",
     "output_type": "stream",
     "text": [
      "[[ 8 10  9 11]\n",
      " [ 0  2  1  3]\n",
      " [ 4  6  5  7]]\n",
      "\n",
      "[[ 0  3  2  1]\n",
      " [ 4  7  6  5]\n",
      " [ 8 11 10  9]]\n"
     ]
    }
   ],
   "source": [
    "print(rng.permutation(arr))\n",
    "print()\n",
    "print(rng.permutation(arr,axis=1))"
   ]
  },
  {
   "cell_type": "code",
   "execution_count": null,
   "metadata": {},
   "outputs": [],
   "source": []
  }
 ],
 "metadata": {
  "kernelspec": {
   "display_name": "Python 3",
   "language": "python",
   "name": "python3"
  },
  "language_info": {
   "codemirror_mode": {
    "name": "ipython",
    "version": 3
   },
   "file_extension": ".py",
   "mimetype": "text/x-python",
   "name": "python",
   "nbconvert_exporter": "python",
   "pygments_lexer": "ipython3",
   "version": "3.8.3"
  }
 },
 "nbformat": 4,
 "nbformat_minor": 4
}
